{
  "nbformat": 4,
  "nbformat_minor": 0,
  "metadata": {
    "colab": {
      "name": "G16-Funciones.ipynb",
      "provenance": []
    },
    "kernelspec": {
      "name": "python3",
      "display_name": "Python 3"
    },
    "language_info": {
      "name": "python"
    }
  },
  "cells": [
    {
      "cell_type": "markdown",
      "source": [
        "\n",
        "1. Escribe una función que encuentre el máximo de 3 números.\n",
        "\n",
        "\n"
      ],
      "metadata": {
        "id": "J4CzT07gskY6"
      }
    },
    {
      "cell_type": "code",
      "source": [
        ""
      ],
      "metadata": {
        "id": "UFVrFRQSsg5z"
      },
      "execution_count": null,
      "outputs": []
    },
    {
      "cell_type": "markdown",
      "source": [
        "2. Escribe una función que sume todos los números de una lista.\n",
        "\n",
        "  Ejemplo: \n",
        "  \n",
        "  Lista input =  (8, 2, 3, 0, 7) \n",
        "  Output = 20\n",
        "\n"
      ],
      "metadata": {
        "id": "QYikY-PZsrmW"
      }
    },
    {
      "cell_type": "code",
      "source": [
        ""
      ],
      "metadata": {
        "id": "ksjYnoOptFf7"
      },
      "execution_count": null,
      "outputs": []
    },
    {
      "cell_type": "markdown",
      "source": [
        "3. Escribe una función que multiplique todos los números de una lista.\n",
        "\n",
        "  Ejemplo:\n",
        "\n",
        "  Lista input =  (8, 2, 3, -1, 7) \n",
        "\n",
        "  Output = -336\n"
      ],
      "metadata": {
        "id": "dCtx1pEMtEyR"
      }
    },
    {
      "cell_type": "code",
      "source": [
        ""
      ],
      "metadata": {
        "id": "ScaBwceRtP4A"
      },
      "execution_count": null,
      "outputs": []
    },
    {
      "cell_type": "markdown",
      "source": [
        "4. Escribe un programa que regrese el reverso de una cadena. \n",
        "\n",
        "  Ejemplo: \n",
        "\n",
        "  Input String : \"1234abcd\"\n",
        "\n",
        "  Output : \"dcba4321\"\n"
      ],
      "metadata": {
        "id": "Z21lCnnAt1zZ"
      }
    },
    {
      "cell_type": "code",
      "source": [
        ""
      ],
      "metadata": {
        "id": "z8DulKaMt2G0"
      },
      "execution_count": null,
      "outputs": []
    },
    {
      "cell_type": "markdown",
      "source": [
        "5. Escribe una función que calcule el factorial de un número (un entero no negativo). La función recibirá el entero como argumento.\n"
      ],
      "metadata": {
        "id": "Bf-nTq7Nt4Zu"
      }
    },
    {
      "cell_type": "code",
      "source": [
        ""
      ],
      "metadata": {
        "id": "VfO3j5ett7nN"
      },
      "execution_count": null,
      "outputs": []
    },
    {
      "cell_type": "markdown",
      "source": [
        "\n",
        "6. Escribe una función que revise si un número se encuentra dentro de un rango dado. "
      ],
      "metadata": {
        "id": "2g5K5iRct6ui"
      }
    },
    {
      "cell_type": "code",
      "source": [
        ""
      ],
      "metadata": {
        "id": "tg2Bundpt-XF"
      },
      "execution_count": null,
      "outputs": []
    },
    {
      "cell_type": "markdown",
      "source": [
        "7.  Escribe una función Python que acepte una cadena y calcule el número de letras mayúsculas y minúsculas.\n",
        "\n",
        "  Ejemplo:\n",
        "\n",
        "  Cadena: ’The quick Brow Fox'\n",
        "  \n",
        "  Resultado previsto:\n",
        "  \n",
        "  No. de caracteres en mayúsculas: 3\n",
        "\n",
        "  No. de Caracteres minúsculas: 12"
      ],
      "metadata": {
        "id": "bHI_pan9t92H"
      }
    },
    {
      "cell_type": "code",
      "source": [
        ""
      ],
      "metadata": {
        "id": "wkLXgvd_uBCH"
      },
      "execution_count": null,
      "outputs": []
    },
    {
      "cell_type": "markdown",
      "source": [
        "8. Escribe una función de Python que toma una lista y devuelve una nueva lista con los elementos únicos de la primera lista.\n",
        "\n",
        "  Ejemplo:\n",
        "  \n",
        "  Lista: [1,2,3,3,3,3,4,5]\n",
        "  \n",
        "  Lista única: [1, 2, 3, 4, 5]\n",
        "\n"
      ],
      "metadata": {
        "id": "zfQIvNxJuDuk"
      }
    },
    {
      "cell_type": "code",
      "source": [
        ""
      ],
      "metadata": {
        "id": "VBfHtFvAuDBr"
      },
      "execution_count": null,
      "outputs": []
    },
    {
      "cell_type": "markdown",
      "source": [
        "\n",
        "9. Escribe una función Python que tome un número como parámetro y compruebe si el número es primo o no. \n",
        "\n",
        "  Nota: Un número primo (o un primo) es un número natural mayor a 1 y que no tiene ningún divisor positivo aparte de 1 y sí mismo."
      ],
      "metadata": {
        "id": "FIJWA6m2uI9F"
      }
    },
    {
      "cell_type": "code",
      "source": [
        ""
      ],
      "metadata": {
        "id": "i7CiHPBruLDH"
      },
      "execution_count": null,
      "outputs": []
    },
    {
      "cell_type": "markdown",
      "source": [
        "10. Escribe un programa Python para imprimir los números pares de una lista dada.\n",
        "\n",
        "  Ejemplo: \n",
        "\n",
        "  Lista muestra: [1, 2, 3, 4, 5, 6, 7, 8, 9]\n",
        "  \n",
        "  Resultado esperado: [2, 4, 6, 8]\n"
      ],
      "metadata": {
        "id": "JOFy6krnuLsW"
      }
    },
    {
      "cell_type": "code",
      "source": [
        ""
      ],
      "metadata": {
        "id": "ooB5WCFmuO3h"
      },
      "execution_count": null,
      "outputs": []
    },
    {
      "cell_type": "markdown",
      "source": [
        "11. Escribe una función Python para comprobar si un número es perfecto o no.\n",
        "\n",
        "  Un número perfecto es un número entero positivo que es igual a la suma de sus propios divisores positivos, es decir, la suma de sus divisores positivos excluyendo el número en sí. Igualmente, un número perfecto es un número que es la mitad de la suma de todos sus divisores positivos (incluyendo a sí mismo).\n",
        "\n",
        "  Ejemplo:\n",
        "  \n",
        "  El primer número perfecto es 6, porque 1, 2 y 3 son sus propios divisores positivos, y 1 + 2 + 3 = 6. Equivalentemente, el número 6 es igual a la mitad de la suma de todos sus divisores positivos: (1 + 2 + 3 + 6) / 2 = 6. \n",
        "  \n",
        "  El siguiente número perfecto es 28 = 1 + 2 + 4 + 7 + 14. Le siguen los números perfectos 496 y 8128.\n"
      ],
      "metadata": {
        "id": "j0YYaJ44uON6"
      }
    },
    {
      "cell_type": "code",
      "source": [
        ""
      ],
      "metadata": {
        "id": "bXHoekPtuRNa"
      },
      "execution_count": null,
      "outputs": []
    },
    {
      "cell_type": "markdown",
      "source": [
        "\n",
        "12. Escribe una función Python que compruebe si una cadena pasada es palíndromo o no. \n",
        "\n",
        "  Nota: Un palíndromo es una palabra, frase o secuencia que lee lo mismo hacia atrás que hacia adelante, por ejemplo, madam o nurses run."
      ],
      "metadata": {
        "id": "K502kBhXuRlP"
      }
    },
    {
      "cell_type": "code",
      "source": [
        ""
      ],
      "metadata": {
        "id": "q-2YPGsyuUvK"
      },
      "execution_count": null,
      "outputs": []
    },
    {
      "cell_type": "markdown",
      "source": [
        "13. Escribe una función Python que imprima las primeras n filas del triángulo de Pascal."
      ],
      "metadata": {
        "id": "fmIyFCPvuUOH"
      }
    },
    {
      "cell_type": "code",
      "source": [
        ""
      ],
      "metadata": {
        "id": "qIJiOGw4uY6O"
      },
      "execution_count": null,
      "outputs": []
    },
    {
      "cell_type": "markdown",
      "source": [
        "14. Escribe una función Python para comprobar si una cadena es un pangrama o no. \n",
        "\n",
        "  Nota: Los pangramas son palabras o frases que contienen cada letra del alfabeto al menos una vez.\n",
        "\n",
        "  Por ejemplo: \"The quick brown fox jumps over the lazy dog\""
      ],
      "metadata": {
        "id": "qDEckBsXuYWn"
      }
    },
    {
      "cell_type": "code",
      "source": [
        ""
      ],
      "metadata": {
        "id": "l6lwMQWsuaqQ"
      },
      "execution_count": null,
      "outputs": []
    },
    {
      "cell_type": "markdown",
      "source": [
        "15. Escribe un programa Python que acepte una secuencia de palabras separadas por guiones como entrada e imprima las palabras en una secuencia separada por guiones después de ordenarlas alfabéticamente. \n",
        "\n",
        "  Ejemplo:\n",
        "  \n",
        "  Input: green-red-yellow-black-white\n",
        "  \n",
        "  Resultado esperado: black-green-red-white-yellow"
      ],
      "metadata": {
        "id": "Jql6UF48uc0O"
      }
    },
    {
      "cell_type": "code",
      "source": [
        ""
      ],
      "metadata": {
        "id": "buHb08P9uev2"
      },
      "execution_count": null,
      "outputs": []
    },
    {
      "cell_type": "markdown",
      "source": [
        "\n",
        "16. Escribe una función Python para crear e imprimir una lista donde los valores sean los cuadrados de los números entre 1 y 30 (ambos incluidos)."
      ],
      "metadata": {
        "id": "1gSSf0dpud8z"
      }
    },
    {
      "cell_type": "code",
      "source": [
        ""
      ],
      "metadata": {
        "id": "vLpq94fRum-S"
      },
      "execution_count": null,
      "outputs": []
    },
    {
      "cell_type": "markdown",
      "source": [
        "17. Escribe un programa Python para crear una cadena de decoradores de funciones (negrita, cursiva, subrayado, etc.) en Python."
      ],
      "metadata": {
        "id": "gn_ZVqs3umla"
      }
    },
    {
      "cell_type": "code",
      "source": [
        ""
      ],
      "metadata": {
        "id": "Obst7pcbupuW"
      },
      "execution_count": null,
      "outputs": []
    },
    {
      "cell_type": "markdown",
      "source": [
        "18.  Escribe un programa Python para ejecutar una cadena que contenga código Python.\n"
      ],
      "metadata": {
        "id": "8RwnIWvLurWp"
      }
    },
    {
      "cell_type": "code",
      "source": [
        ""
      ],
      "metadata": {
        "id": "bKGjVY8ausFd"
      },
      "execution_count": null,
      "outputs": []
    },
    {
      "cell_type": "markdown",
      "source": [
        "19. Escribe un programa Python para acceder a una función dentro de una función. \n",
        "\n"
      ],
      "metadata": {
        "id": "8qgGTPcxutP_"
      }
    },
    {
      "cell_type": "code",
      "source": [
        ""
      ],
      "metadata": {
        "id": "1iEGZGk9uvnO"
      },
      "execution_count": null,
      "outputs": []
    },
    {
      "cell_type": "markdown",
      "source": [
        "20. Escribe un programa Python para detectar el número de variables locales declaradas en una función. \n"
      ],
      "metadata": {
        "id": "BsHWiAdauxOm"
      }
    },
    {
      "cell_type": "code",
      "source": [
        ""
      ],
      "metadata": {
        "id": "PONrVOcluzGy"
      },
      "execution_count": null,
      "outputs": []
    },
    {
      "cell_type": "markdown",
      "source": [
        "21. Escribe un programa Python que invoque una función dada después de milisegundos específicos. \n",
        "\n",
        "  Ejemplo:\n",
        "\n",
        "  Salida de la muestra:\n",
        "  \n",
        "  Raíz cuadrada después de milisegundos específicos:\n",
        "  \n",
        "  4,0\n",
        "  \n",
        "  10,0\n",
        "  \n",
        "  158,42979517754858\n"
      ],
      "metadata": {
        "id": "1aDXgNU8u2Uz"
      }
    },
    {
      "cell_type": "code",
      "execution_count": null,
      "metadata": {
        "id": "icTzePSNsexS"
      },
      "outputs": [],
      "source": [
        ""
      ]
    }
  ]
}